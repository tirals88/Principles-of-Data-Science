{
  "nbformat": 4,
  "nbformat_minor": 0,
  "metadata": {
    "colab": {
      "name": "데이터 과학자가 되는 핵심 기술 1장.ipynb",
      "provenance": [],
      "collapsed_sections": [],
      "authorship_tag": "ABX9TyM3nzykByyz/lmHsR7mInhj",
      "include_colab_link": true
    },
    "kernelspec": {
      "name": "python3",
      "display_name": "Python 3"
    },
    "language_info": {
      "name": "python"
    }
  },
  "cells": [
    {
      "cell_type": "markdown",
      "metadata": {
        "id": "view-in-github",
        "colab_type": "text"
      },
      "source": [
        "<a href=\"https://colab.research.google.com/github/tirals88/Principles-of-Data-Science/blob/master/My_study/%EB%8D%B0%EC%9D%B4%ED%84%B0_%EA%B3%BC%ED%95%99%EC%9E%90%EA%B0%80_%EB%90%98%EB%8A%94_%ED%95%B5%EC%8B%AC_%EA%B8%B0%EC%88%A0_1%EC%9E%A5.ipynb\" target=\"_parent\"><img src=\"https://colab.research.google.com/assets/colab-badge.svg\" alt=\"Open In Colab\"/></a>"
      ]
    },
    {
      "cell_type": "markdown",
      "source": [
        "'데이터 과학자가 되는 핵심 기술' 책 스터디 내용을 jupyter notebook으로 정리하여 올립니다.\n",
        "\n",
        "Github 주소 : 'https://github.com/PacktPublishing/Principles-of-Data-Science'\n",
        "\n",
        "데이터 과학자가 되는 핵심 기술 / Principles of Data Science\n",
        "\n",
        "http://www.acornpub.co.kr/book/principle-data-science"
      ],
      "metadata": {
        "id": "iCdf0zmkhZZ-"
      }
    },
    {
      "cell_type": "markdown",
      "source": [
        "#0. 들어가며\n",
        "\n",
        "- 이 책에서 사용된 예제 코드는 http://www.packtpub.com 의 계정을 통해 다운로드 할 수 있다.\n",
        "- 깃허브 https://github.com/PacktPublishing/Principles-of-Data-Science 에서도 제공된다.\n",
        "- 책에서 사용한 스크린샷/컬러 이미지는 PDF 파일로 제공되며 http://www.packtpub.com/sites/default/files/downloads/PrinciplesofDataScience_ColorImages.pdf 에서 다운로드 할 수 있다.\n",
        "\n",
        "- 위 내용들은 모두 책의 들어가기 전 내용에 포함되어 있다.\n",
        "\n",
        "#1.\n",
        "1장에서는 데이터 과학자의 용어와 어휘에 대해 살펴본다.\n",
        "\n",
        "- 데이터 과학의 기본 용어\n",
        "- 데이터 과학의 세 가지 영역\n",
        "- 기본적인 파이썬 구문\n",
        "\n"
      ],
      "metadata": {
        "id": "bMrYERoypxvw"
      }
    },
    {
      "cell_type": "markdown",
      "source": [
        "---\n",
        "# 데이터 과학이란 무엇인가?\n",
        "\n",
        "%% 기본용어 %%\n",
        "\n",
        "1. 데이터\n",
        "\n",
        "- 구조적 데이터 Organized Data : **행/열 구조로 정렬된 데이터**를 말하며, 모든 행은 단일 관찰을 나타내고, 열은 해당 관찰의 특성을 나타낸다.\n",
        "- 비구조적 데이터 Unorganized Data : 형식이 자유로운 데이터 타입을 말하며, 구조화되려면 구성 요소를 분석해야 하는 텍스트나 원시 오디오/신호가 일반적이다.\n",
        "\n",
        "데이터 과학은 데이터를 통해 지식을 습득하는 예술이자 과학이다.\n",
        "\n",
        "데이터 과학은 ! 데이터를 취하는 방법, ! 지식을 습득하는데 데이터를 사용하는 방법, ! 지식을 사용해 다음과 같은 일을 수행한다.\n",
        "- 의사 결정\n",
        "- 미래 예측\n",
        "- 과거/현재의 이해\n",
        "- 새로운 산업/제품 창출\n",
        "\n",
        "데이터 과학은 데이터를 사용하지 않으면 놓치게 되는 새로운 통찰력을 얻기 위해서 데이터를 사용하는 것이다.\n",
        "\n",
        "-> 데이터 과학을 데이터가 가진 문제의 최종 해결책으로 생각해서는 안 된다. 이것은 단지 의견이며, 물론 매우 정보에 입각한 의견이지만 그럼에도 불구하고 의견일 뿐이다.\n",
        "\n",
        "정답을 찾으려는 목적과 같이 인간의 뇌를 대체하지는 않는다, 그저 보완하고 함께 작업을 하는 것이다."
      ],
      "metadata": {
        "id": "xStTCaTtyNn_"
      }
    },
    {
      "cell_type": "markdown",
      "source": [
        "---\n",
        "# 왜 데이터 과학인가?\n",
        "\n",
        "현대 사회에서 우리는 과잉 데이터를 갖고 있음이 분명하다.\n",
        "\n",
        "다시 말해 데이터의 엄청난 양으로 인해 사람이 합리적인 시간에 문구를 분석하는 것은 말 그래돌 불가능하다.\n",
        "\n",
        "데이터는 다양한 형태와 여러 출처에서 수집되며, 종종 많이 구조화되어 있지 않다.\n",
        "\n",
        "이러한 데이터들 사이에서 관계를 발견하고 파묻혀 있던 지식을 더 쉽게 발견하는 것이 데이터 과학의 주요 목표이다."
      ],
      "metadata": {
        "id": "MDqfpCfo1mKO"
      }
    },
    {
      "cell_type": "markdown",
      "source": [
        "---\n",
        "#더 많은 용어들\n",
        "\n",
        "1. 머신러닝 : 프로그래머가 명시적으로 '규칙'을 주지 않고도 컴퓨터가 데이터로부터 학습할 수 있는 능력을 제공받는 것\n",
        "\n",
        "<모델>\n",
        "\n",
        "1. 확률 모델 Probabilistic model\n",
        "- 확률을 활용해 우연성의 정도가 포함된 요소들 사이의 관계를 찾음\n",
        "2. 통계 모델 Statistical model \n",
        "- 통계 원리를 활용해 데이터 요소들 사이의 관계를 간단한 수학 공식으로 형상화한다.\n",
        "\n",
        "<이후 살펴볼 모델들>\n",
        "1. 탐색적 데이터 분석 EDA : 결과를 표준화하고 신속하게 통찰력을 얻기 위해 데이터를 준비하는 것\n",
        "2. 데이터 마이닝 Data minig : 변수 간의 관계를 찾는 것\n",
        "3. 빅데이터 Big data : 단일 컴퓨터에서는 처리하기에는 너무 큰 데이터를 다루는 과정"
      ],
      "metadata": {
        "id": "MH2bJfJ_TeXs"
      }
    },
    {
      "cell_type": "code",
      "source": [
        "!pip install BeautifulSoup4"
      ],
      "metadata": {
        "colab": {
          "base_uri": "https://localhost:8080/"
        },
        "id": "XYoWUvTOXIxD",
        "outputId": "caec98ca-9815-44f3-fdcf-f720b446063c"
      },
      "execution_count": 6,
      "outputs": [
        {
          "output_type": "stream",
          "name": "stdout",
          "text": [
            "Looking in indexes: https://pypi.org/simple, https://us-python.pkg.dev/colab-wheels/public/simple/\n",
            "Requirement already satisfied: BeautifulSoup4 in /usr/local/lib/python3.7/dist-packages (4.6.3)\n"
          ]
        }
      ]
    },
    {
      "cell_type": "code",
      "execution_count": 29,
      "metadata": {
        "id": "XgDznjQHpfVf"
      },
      "outputs": [],
      "source": [
        "import requests\n",
        "# 웹에서 데이터를 가져오는 데 사용한다.\n",
        "\n",
        "from bs4 import BeautifulSoup\n",
        "# HTML 구문 분석에 사용한다.\n",
        "\n",
        "from sklearn.feature_extraction.text import CountVectorizer\n",
        "# 단어와 문구의 수를 세는 데 사용한다 ( 이 모듈은 많이 사용하게 될 것이다. )"
      ]
    },
    {
      "cell_type": "code",
      "source": [
        "texts = []\n",
        "\n",
        "for index in range(0, 1000, 10):\n",
        "  page = 'http://indeed.com/jobs?q=data+scientist&start='+str(index)\n",
        "  #직무 목록이 있는 URL을 확인한다.\n",
        "\n",
        "  web_result = requests.get(page).text\n",
        "  #실제로 방문할 url을 요청하는 데 사용.\n",
        "\n",
        "  soup = BeautifulSoup(web_result)\n",
        "  #결과 페이지의 html 구문을 분석한다.\n",
        "\n",
        "  for listing in soup.findAll('span', {'class':'summary'}):\n",
        "    #페이지의 각 목록을 대상으로 한다.\n",
        "\n",
        "    texts.append(listing.text)"
      ],
      "metadata": {
        "id": "VqLj5LmPYD9r"
      },
      "execution_count": 30,
      "outputs": []
    },
    {
      "cell_type": "code",
      "source": [
        "print(texts[0])"
      ],
      "metadata": {
        "colab": {
          "base_uri": "https://localhost:8080/",
          "height": 178
        },
        "id": "XdXmAK5hnkWq",
        "outputId": "97ad39f4-7967-4bfa-c809-706bb2c02f16"
      },
      "execution_count": 31,
      "outputs": [
        {
          "output_type": "error",
          "ename": "IndexError",
          "evalue": "ignored",
          "traceback": [
            "\u001b[0;31m---------------------------------------------------------------------------\u001b[0m",
            "\u001b[0;31mIndexError\u001b[0m                                Traceback (most recent call last)",
            "\u001b[0;32m<ipython-input-31-212dcd708a90>\u001b[0m in \u001b[0;36m<module>\u001b[0;34m()\u001b[0m\n\u001b[0;32m----> 1\u001b[0;31m \u001b[0mprint\u001b[0m\u001b[0;34m(\u001b[0m\u001b[0mtexts\u001b[0m\u001b[0;34m[\u001b[0m\u001b[0;36m0\u001b[0m\u001b[0;34m]\u001b[0m\u001b[0;34m)\u001b[0m\u001b[0;34m\u001b[0m\u001b[0;34m\u001b[0m\u001b[0m\n\u001b[0m",
            "\u001b[0;31mIndexError\u001b[0m: list index out of range"
          ]
        }
      ]
    },
    {
      "cell_type": "code",
      "source": [
        "type(texts) # == list\n",
        "\n",
        "vect = CountVectorizer(ngram_range(1,2), stop_words='english')\n",
        "# 하나와 두 개 단어 문구를 기본 카운팅한다.\n",
        "\n",
        "matrix = vect.fit_transform(texts)\n",
        "# 코퍼스의 어휘에 맞춰 학습하고 적용한다.\n",
        "\n",
        "print(len(vect.get_feature_names()))\n",
        "# 얼마나 많은 특징이 있는지 보여준다\n",
        "# 이 경우에는 하나와 두 개 단어 문구가 모두 11,293번 나왔다"
      ],
      "metadata": {
        "id": "3VGYpdI4aHzW"
      },
      "execution_count": null,
      "outputs": []
    },
    {
      "cell_type": "code",
      "source": [
        "for index in range(0, 1):\n",
        "  page = 'http://indeed.com/jobs?q=data+scientist&start='+str(index)\n",
        "  #직무 목록이 있는 URL을 확인한다.\n",
        "\n",
        "  web_result = requests.get(page).text\n",
        "  #실제로 방문할 url을 요청하는 데 사용.\n",
        "\n",
        "  soup = BeautifulSoup(web_result, 'html.parser')\n",
        "  for listing in soup.findAll('span', {'class':'summary'}):\n",
        "    print(listing.text)"
      ],
      "metadata": {
        "id": "gvI6EcFJpwXr"
      },
      "execution_count": 44,
      "outputs": []
    },
    {
      "cell_type": "code",
      "source": [
        "print(texts)"
      ],
      "metadata": {
        "colab": {
          "base_uri": "https://localhost:8080/"
        },
        "id": "JLhsIwvwqARn",
        "outputId": "216ed0c4-cad6-4936-9481-238b315baed1"
      },
      "execution_count": 43,
      "outputs": [
        {
          "output_type": "stream",
          "name": "stdout",
          "text": [
            "[]\n"
          ]
        }
      ]
    },
    {
      "cell_type": "code",
      "source": [
        "page = 'http://indeed.com/jobs?q=data+scientist&start=0'\n",
        "web_result = requests.get(page).text\n",
        "print(web_result)"
      ],
      "metadata": {
        "colab": {
          "base_uri": "https://localhost:8080/"
        },
        "id": "fVJqiYHXqGNv",
        "outputId": "c614f19b-b683-4e33-80c4-9c0a0e3760ca"
      },
      "execution_count": 45,
      "outputs": [
        {
          "output_type": "stream",
          "name": "stdout",
          "text": [
            "<html lang=\"en\">\n",
            "<head>\n",
            "<title>hCaptcha solve page</title>\n",
            "<script src=\"https://www.hcaptcha.com/1/api.js\" async defer></script>\n",
            "</head>\n",
            "<body>\n",
            "<form action=\"/jobs?q=data+scientist&start=0\" method=\"POST\">\n",
            "<div class=\"h-captcha\" data-sitekey=\"eb27f525-f936-43b4-91e2-95a426d4a8bd\"></div>\n",
            "<br/>\n",
            "<input type=\"submit\" value=\"Submit\">\n",
            "</form>\n",
            "</body>\n",
            "</html>\n",
            "\n"
          ]
        }
      ]
    },
    {
      "cell_type": "code",
      "source": [
        "soup = BeautifulSoup(web_result)"
      ],
      "metadata": {
        "id": "FaDXYbU3sjK4"
      },
      "execution_count": 46,
      "outputs": []
    },
    {
      "cell_type": "code",
      "source": [
        "soup"
      ],
      "metadata": {
        "colab": {
          "base_uri": "https://localhost:8080/"
        },
        "id": "04E3UsKZspm2",
        "outputId": "ff27b743-0658-4519-a785-54256b296054"
      },
      "execution_count": 54,
      "outputs": [
        {
          "output_type": "execute_result",
          "data": {
            "text/plain": [
              "<html lang=\"en\">\n",
              "<head>\n",
              "<title>hCaptcha solve page</title>\n",
              "<script async=\"\" defer=\"\" src=\"https://www.hcaptcha.com/1/api.js\"></script>\n",
              "</head>\n",
              "<body>\n",
              "<form action=\"/jobs?q=data+scientist&amp;start=0\" method=\"POST\">\n",
              "<div class=\"h-captcha\" data-sitekey=\"eb27f525-f936-43b4-91e2-95a426d4a8bd\"></div>\n",
              "<br/>\n",
              "<input type=\"submit\" value=\"Submit\"/>\n",
              "</form>\n",
              "</body>\n",
              "</html>"
            ]
          },
          "metadata": {},
          "execution_count": 54
        }
      ]
    },
    {
      "cell_type": "code",
      "source": [
        "for listing in soup.findAll('span',{}):\n",
        "    print(listing)"
      ],
      "metadata": {
        "id": "nrDTvCrssqTe"
      },
      "execution_count": 56,
      "outputs": []
    },
    {
      "cell_type": "code",
      "source": [
        "help(soup.findAll)"
      ],
      "metadata": {
        "colab": {
          "base_uri": "https://localhost:8080/"
        },
        "id": "s6yNu9kWs3kz",
        "outputId": "e48d5a6d-8cdb-4ae9-b1bc-44a359cbc66e"
      },
      "execution_count": 52,
      "outputs": [
        {
          "output_type": "stream",
          "name": "stdout",
          "text": [
            "Help on method find_all in module bs4.element:\n",
            "\n",
            "find_all(name=None, attrs={}, recursive=True, text=None, limit=None, **kwargs) method of bs4.BeautifulSoup instance\n",
            "    Extracts a list of Tag objects that match the given\n",
            "    criteria.  You can specify the name of the Tag and any\n",
            "    attributes you want the Tag to have.\n",
            "    \n",
            "    The value of a key-value pair in the 'attrs' map can be a\n",
            "    string, a list of strings, a regular expression object, or a\n",
            "    callable that takes a string and returns whether or not the\n",
            "    string matches for some custom definition of 'matches'. The\n",
            "    same is true of the tag name.\n",
            "\n"
          ]
        }
      ]
    },
    {
      "cell_type": "code",
      "source": [
        ""
      ],
      "metadata": {
        "id": "ZYfsPA-5tfk9"
      },
      "execution_count": null,
      "outputs": []
    }
  ]
}